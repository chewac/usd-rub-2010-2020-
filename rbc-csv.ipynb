{
 "cells": [
  {
   "cell_type": "code",
   "execution_count": 15,
   "metadata": {},
   "outputs": [],
   "source": [
    "import os\n",
    "import pandas as pd\n",
    "from pandas.plotting import autocorrelation_plot\n",
    "import matplotlib.pyplot as plt\n",
    "%matplotlib inline"
   ]
  },
  {
   "cell_type": "code",
   "execution_count": 16,
   "metadata": {},
   "outputs": [],
   "source": [
    "data = pd.read_csv('rbc.csv', skiprows=0)"
   ]
  },
  {
   "cell_type": "code",
   "execution_count": 17,
   "metadata": {},
   "outputs": [
    {
     "data": {
      "text/html": [
       "<div>\n",
       "<style scoped>\n",
       "    .dataframe tbody tr th:only-of-type {\n",
       "        vertical-align: middle;\n",
       "    }\n",
       "\n",
       "    .dataframe tbody tr th {\n",
       "        vertical-align: top;\n",
       "    }\n",
       "\n",
       "    .dataframe thead th {\n",
       "        text-align: right;\n",
       "    }\n",
       "</style>\n",
       "<table border=\"1\" class=\"dataframe\">\n",
       "  <thead>\n",
       "    <tr style=\"text-align: right;\">\n",
       "      <th></th>\n",
       "      <th>TICKER</th>\n",
       "      <th>DATE</th>\n",
       "      <th>OPEN</th>\n",
       "      <th>HIGH</th>\n",
       "      <th>LOW</th>\n",
       "      <th>CLOSE</th>\n",
       "      <th>VOL</th>\n",
       "      <th>WAPRICE</th>\n",
       "    </tr>\n",
       "  </thead>\n",
       "  <tbody>\n",
       "    <tr>\n",
       "      <th>0</th>\n",
       "      <td>USD000000TOD</td>\n",
       "      <td>2010-02-01</td>\n",
       "      <td>30.420</td>\n",
       "      <td>30.4500</td>\n",
       "      <td>30.3100</td>\n",
       "      <td>30.3650</td>\n",
       "      <td>6.821940e+08</td>\n",
       "      <td>30.3711</td>\n",
       "    </tr>\n",
       "    <tr>\n",
       "      <th>1</th>\n",
       "      <td>USD000000TOD</td>\n",
       "      <td>2010-02-02</td>\n",
       "      <td>30.250</td>\n",
       "      <td>30.2596</td>\n",
       "      <td>30.1250</td>\n",
       "      <td>30.1586</td>\n",
       "      <td>8.377540e+08</td>\n",
       "      <td>30.1797</td>\n",
       "    </tr>\n",
       "    <tr>\n",
       "      <th>2</th>\n",
       "      <td>USD000000TOD</td>\n",
       "      <td>2010-02-03</td>\n",
       "      <td>29.920</td>\n",
       "      <td>29.9450</td>\n",
       "      <td>29.8150</td>\n",
       "      <td>29.8575</td>\n",
       "      <td>1.008222e+09</td>\n",
       "      <td>29.8754</td>\n",
       "    </tr>\n",
       "    <tr>\n",
       "      <th>3</th>\n",
       "      <td>USD000000TOD</td>\n",
       "      <td>2010-02-04</td>\n",
       "      <td>29.950</td>\n",
       "      <td>30.1740</td>\n",
       "      <td>29.9500</td>\n",
       "      <td>30.1675</td>\n",
       "      <td>1.153035e+09</td>\n",
       "      <td>30.0406</td>\n",
       "    </tr>\n",
       "    <tr>\n",
       "      <th>4</th>\n",
       "      <td>USD000000TOD</td>\n",
       "      <td>2010-02-05</td>\n",
       "      <td>30.500</td>\n",
       "      <td>30.5450</td>\n",
       "      <td>30.4050</td>\n",
       "      <td>30.4300</td>\n",
       "      <td>1.152455e+09</td>\n",
       "      <td>30.4684</td>\n",
       "    </tr>\n",
       "    <tr>\n",
       "      <th>...</th>\n",
       "      <td>...</td>\n",
       "      <td>...</td>\n",
       "      <td>...</td>\n",
       "      <td>...</td>\n",
       "      <td>...</td>\n",
       "      <td>...</td>\n",
       "      <td>...</td>\n",
       "      <td>...</td>\n",
       "    </tr>\n",
       "    <tr>\n",
       "      <th>2391</th>\n",
       "      <td>USD000000TOD</td>\n",
       "      <td>2020-01-24</td>\n",
       "      <td>61.855</td>\n",
       "      <td>61.8975</td>\n",
       "      <td>61.7025</td>\n",
       "      <td>61.8200</td>\n",
       "      <td>5.737230e+08</td>\n",
       "      <td>61.7753</td>\n",
       "    </tr>\n",
       "    <tr>\n",
       "      <th>2392</th>\n",
       "      <td>USD000000TOD</td>\n",
       "      <td>2020-01-27</td>\n",
       "      <td>62.330</td>\n",
       "      <td>62.8175</td>\n",
       "      <td>62.1775</td>\n",
       "      <td>62.7800</td>\n",
       "      <td>1.076182e+09</td>\n",
       "      <td>62.4637</td>\n",
       "    </tr>\n",
       "    <tr>\n",
       "      <th>2393</th>\n",
       "      <td>USD000000TOD</td>\n",
       "      <td>2020-01-28</td>\n",
       "      <td>62.845</td>\n",
       "      <td>63.1325</td>\n",
       "      <td>62.5200</td>\n",
       "      <td>62.6025</td>\n",
       "      <td>6.311120e+08</td>\n",
       "      <td>62.8225</td>\n",
       "    </tr>\n",
       "    <tr>\n",
       "      <th>2394</th>\n",
       "      <td>USD000000TOD</td>\n",
       "      <td>2020-01-29</td>\n",
       "      <td>62.320</td>\n",
       "      <td>62.7925</td>\n",
       "      <td>62.2725</td>\n",
       "      <td>62.6400</td>\n",
       "      <td>6.674880e+08</td>\n",
       "      <td>62.4921</td>\n",
       "    </tr>\n",
       "    <tr>\n",
       "      <th>2395</th>\n",
       "      <td>USD000000TOD</td>\n",
       "      <td>2020-01-30</td>\n",
       "      <td>62.830</td>\n",
       "      <td>63.3100</td>\n",
       "      <td>62.8200</td>\n",
       "      <td>63.2125</td>\n",
       "      <td>1.079710e+09</td>\n",
       "      <td>63.0343</td>\n",
       "    </tr>\n",
       "  </tbody>\n",
       "</table>\n",
       "<p>2396 rows × 8 columns</p>\n",
       "</div>"
      ],
      "text/plain": [
       "            TICKER        DATE    OPEN     HIGH      LOW    CLOSE  \\\n",
       "0     USD000000TOD  2010-02-01  30.420  30.4500  30.3100  30.3650   \n",
       "1     USD000000TOD  2010-02-02  30.250  30.2596  30.1250  30.1586   \n",
       "2     USD000000TOD  2010-02-03  29.920  29.9450  29.8150  29.8575   \n",
       "3     USD000000TOD  2010-02-04  29.950  30.1740  29.9500  30.1675   \n",
       "4     USD000000TOD  2010-02-05  30.500  30.5450  30.4050  30.4300   \n",
       "...            ...         ...     ...      ...      ...      ...   \n",
       "2391  USD000000TOD  2020-01-24  61.855  61.8975  61.7025  61.8200   \n",
       "2392  USD000000TOD  2020-01-27  62.330  62.8175  62.1775  62.7800   \n",
       "2393  USD000000TOD  2020-01-28  62.845  63.1325  62.5200  62.6025   \n",
       "2394  USD000000TOD  2020-01-29  62.320  62.7925  62.2725  62.6400   \n",
       "2395  USD000000TOD  2020-01-30  62.830  63.3100  62.8200  63.2125   \n",
       "\n",
       "               VOL  WAPRICE  \n",
       "0     6.821940e+08  30.3711  \n",
       "1     8.377540e+08  30.1797  \n",
       "2     1.008222e+09  29.8754  \n",
       "3     1.153035e+09  30.0406  \n",
       "4     1.152455e+09  30.4684  \n",
       "...            ...      ...  \n",
       "2391  5.737230e+08  61.7753  \n",
       "2392  1.076182e+09  62.4637  \n",
       "2393  6.311120e+08  62.8225  \n",
       "2394  6.674880e+08  62.4921  \n",
       "2395  1.079710e+09  63.0343  \n",
       "\n",
       "[2396 rows x 8 columns]"
      ]
     },
     "execution_count": 17,
     "metadata": {},
     "output_type": "execute_result"
    }
   ],
   "source": [
    "data"
   ]
  },
  {
   "cell_type": "code",
   "execution_count": 18,
   "metadata": {},
   "outputs": [
    {
     "data": {
      "text/plain": [
       "Index(['TICKER', 'DATE', 'OPEN', 'HIGH', 'LOW', 'CLOSE', 'VOL', 'WAPRICE'], dtype='object')"
      ]
     },
     "execution_count": 18,
     "metadata": {},
     "output_type": "execute_result"
    }
   ],
   "source": [
    "data.columns"
   ]
  },
  {
   "cell_type": "code",
   "execution_count": 19,
   "metadata": {
    "scrolled": true
   },
   "outputs": [
    {
     "data": {
      "text/plain": [
       "(0       30.420\n",
       " 1       30.250\n",
       " 2       29.920\n",
       " 3       29.950\n",
       " 4       30.500\n",
       "          ...  \n",
       " 2391    61.855\n",
       " 2392    62.330\n",
       " 2393    62.845\n",
       " 2394    62.320\n",
       " 2395    62.830\n",
       " Name: OPEN, Length: 2396, dtype: float64,\n",
       " 0       30.4500\n",
       " 1       30.2596\n",
       " 2       29.9450\n",
       " 3       30.1740\n",
       " 4       30.5450\n",
       "          ...   \n",
       " 2391    61.8975\n",
       " 2392    62.8175\n",
       " 2393    63.1325\n",
       " 2394    62.7925\n",
       " 2395    63.3100\n",
       " Name: HIGH, Length: 2396, dtype: float64)"
      ]
     },
     "execution_count": 19,
     "metadata": {},
     "output_type": "execute_result"
    }
   ],
   "source": [
    "data['OPEN'], data['HIGH']#, 'HIGH', 'LOW', 'CLOSE']"
   ]
  },
  {
   "cell_type": "code",
   "execution_count": 20,
   "metadata": {},
   "outputs": [],
   "source": [
    "plt.rcParams[\"figure.figsize\"] = (15,5)"
   ]
  },
  {
   "cell_type": "code",
   "execution_count": 21,
   "metadata": {
    "scrolled": true
   },
   "outputs": [
    {
     "data": {
      "text/plain": [
       "<AxesSubplot:>"
      ]
     },
     "execution_count": 21,
     "metadata": {},
     "output_type": "execute_result"
    },
    {
     "data": {
      "image/png": "[encoded data removed]",
      "text/plain": [
       "<Figure size 1080x360 with 1 Axes>"
      ]
     },
     "metadata": {
      "needs_background": "light"
     },
     "output_type": "display_data"
    }
   ],
   "source": [
    "data['HIGH'].plot()\n",
    "data['LOW'].plot()\n",
    "data['OPEN'].plot()\n",
    "data['CLOSE'].plot()"
   ]
  },
  {
   "cell_type": "code",
   "execution_count": null,
   "metadata": {
    "scrolled": true
   },
   "outputs": [],
   "source": []
  },
  {
   "cell_type": "code",
   "execution_count": 22,
   "metadata": {
    "scrolled": true
   },
   "outputs": [
    {
     "data": {
      "text/plain": [
       "<AxesSubplot:>"
      ]
     },
     "execution_count": 22,
     "metadata": {},
     "output_type": "execute_result"
    },
    {
     "data": {
      "image/png": "[encoded data removed]",
      "text/plain": [
       "<Figure size 1080x360 with 1 Axes>"
      ]
     },
     "metadata": {
      "needs_background": "light"
     },
     "output_type": "display_data"
    }
   ],
   "source": [
    "data['LOW'].hist()"
   ]
  },
  {
   "cell_type": "code",
   "execution_count": 23,
   "metadata": {},
   "outputs": [
    {
     "data": {
      "text/plain": [
       "RangeIndex(start=0, stop=2396, step=1)"
      ]
     },
     "execution_count": 23,
     "metadata": {},
     "output_type": "execute_result"
    }
   ],
   "source": [
    "data.index"
   ]
  },
  {
   "cell_type": "code",
   "execution_count": null,
   "metadata": {},
   "outputs": [],
   "source": []
  },
  {
   "cell_type": "code",
   "execution_count": 24,
   "metadata": {},
   "outputs": [
    {
     "data": {
      "text/plain": [
       "85.992"
      ]
     },
     "execution_count": 24,
     "metadata": {},
     "output_type": "execute_result"
    }
   ],
   "source": [
    "data['HIGH'].max()"
   ]
  },
  {
   "cell_type": "code",
   "execution_count": 25,
   "metadata": {},
   "outputs": [
    {
     "data": {
      "text/plain": [
       "0.0"
      ]
     },
     "execution_count": 25,
     "metadata": {},
     "output_type": "execute_result"
    }
   ],
   "source": [
    "data['HIGH'].min()"
   ]
  },
  {
   "cell_type": "code",
   "execution_count": 26,
   "metadata": {},
   "outputs": [
    {
     "data": {
      "text/plain": [
       "47.70935236698793"
      ]
     },
     "execution_count": 26,
     "metadata": {},
     "output_type": "execute_result"
    }
   ],
   "source": [
    "data['HIGH'].mean()"
   ]
  },
  {
   "cell_type": "code",
   "execution_count": 27,
   "metadata": {},
   "outputs": [
    {
     "data": {
      "text/plain": [
       "<AxesSubplot:>"
      ]
     },
     "execution_count": 27,
     "metadata": {},
     "output_type": "execute_result"
    },
    {
     "data": {
      "image/png": "[encoded data removed]",
      "text/plain": [
       "<Figure size 1080x360 with 1 Axes>"
      ]
     },
     "metadata": {
      "needs_background": "light"
     },
     "output_type": "display_data"
    }
   ],
   "source": [
    "data['HIGH'].hist()"
   ]
  },
  {
   "cell_type": "code",
   "execution_count": 28,
   "metadata": {},
   "outputs": [
    {
     "data": {
      "text/plain": [
       "<AxesSubplot:xlabel='Lag', ylabel='Autocorrelation'>"
      ]
     },
     "execution_count": 28,
     "metadata": {},
     "output_type": "execute_result"
    },
    {
     "data": {
      "image/png": "[encoded data removed]",
      "text/plain": [
       "<Figure size 1080x360 with 1 Axes>"
      ]
     },
     "metadata": {
      "needs_background": "light"
     },
     "output_type": "display_data"
    }
   ],
   "source": [
    "autocorrelation_plot(data['HIGH'])"
   ]
  },
  {
   "cell_type": "code",
   "execution_count": null,
   "metadata": {},
   "outputs": [],
   "source": []
  },
  {
   "cell_type": "code",
   "execution_count": null,
   "metadata": {},
   "outputs": [],
   "source": []
  }
 ],
 "metadata": {
  "kernelspec": {
   "display_name": "Python 3 (ipykernel)",
   "language": "python",
   "name": "python3"
  },
  "language_info": {
   "codemirror_mode": {
    "name": "ipython",
    "version": 3
   },
   "file_extension": ".py",
   "mimetype": "text/x-python",
   "name": "python",
   "nbconvert_exporter": "python",
   "pygments_lexer": "ipython3",
   "version": "3.9.12"
  }
 },
 "nbformat": 4,
 "nbformat_minor": 2
}
